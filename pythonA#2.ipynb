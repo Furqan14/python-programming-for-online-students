{
 "cells": [
  {
   "cell_type": "code",
   "execution_count": 1,
   "metadata": {},
   "outputs": [
    {
     "name": "stdout",
     "output_type": "stream",
     "text": [
      "Enter marks of the first subject: 95\n",
      "Enter marks of the second subject: 80\n",
      "Enter marks of the third subject: 75\n",
      "Enter marks of the fourth subject: 67\n",
      "Enter marks of the fifth subject: 80\n",
      "Grade: C\n"
     ]
    }
   ],
   "source": [
    "MATHS=int(input(\"Enter marks of the first subject: \"))\n",
    "PHYSICS=int(input(\"Enter marks of the second subject: \"))\n",
    "CHEMISTRY=int(input(\"Enter marks of the third subject: \"))\n",
    "BIOLOGY=int(input(\"Enter marks of the fourth subject: \"))\n",
    "ENGLISH=int(input(\"Enter marks of the fifth subject: \"))\n",
    "AVERAGE=(MATHS+PHYSICS+CHEMISTRY+BIOLOGY+ENGLISH)/5\n",
    "if(AVERAGE>=90):\n",
    "    print(\"Grade: A\")\n",
    "elif(AVERAGE>=80 and AVERAGE<90):\n",
    "    print(\"Grade: B\")\n",
    "elif(AVERAGE>=70 and AVERAGE<80):\n",
    "    print(\"Grade: C\")\n",
    "elif(AVERAGE>=60 and AVERAGE<70):\n",
    "    print(\"Grade: D\")\n",
    "else:\n",
    "    print(\"Grade: F\")"
   ]
  },
  {
   "cell_type": "code",
   "execution_count": 2,
   "metadata": {},
   "outputs": [
    {
     "name": "stdout",
     "output_type": "stream",
     "text": [
      "Enter a number: 4\n",
      "4 is Even Number\n"
     ]
    }
   ],
   "source": [
    "number = int(input(\"Enter a number: \"))\n",
    "if (number % 2) == 0:\n",
    "   print(\"{0} is Even Number\".format(number))\n",
    "else:\n",
    "   print(\"{0} is Odd Number\".format(number))"
   ]
  },
  {
   "cell_type": "code",
   "execution_count": 3,
   "metadata": {},
   "outputs": [
    {
     "name": "stdout",
     "output_type": "stream",
     "text": [
      "Length of given list is:  6\n"
     ]
    }
   ],
   "source": [
    "L=[1,2,3,9,11,22]\n",
    "print(\"Length of given list is: \",len(L))"
   ]
  },
  {
   "cell_type": "code",
   "execution_count": 5,
   "metadata": {},
   "outputs": [
    {
     "name": "stdout",
     "output_type": "stream",
     "text": [
      "Sum of all elements in given list:  167\n"
     ]
    }
   ],
   "source": [
    "sum = 0   \n",
    "L = [14, 24, 93, 4, 32]  \n",
    "for Element in range(0, len(L)): \n",
    "    sum = sum + L[Element]\n",
    "print(\"Sum of all elements in given list: \", sum)"
   ]
  },
  {
   "cell_type": "code",
   "execution_count": 7,
   "metadata": {},
   "outputs": [
    {
     "name": "stdout",
     "output_type": "stream",
     "text": [
      "Largest element is: 23\n"
     ]
    }
   ],
   "source": [
    "L = [14,16,4,22,23] \n",
    "L.sort() \n",
    "print(\"Largest element is:\", L[-1]) "
   ]
  },
  {
   "cell_type": "code",
   "execution_count": 8,
   "metadata": {},
   "outputs": [
    {
     "name": "stdout",
     "output_type": "stream",
     "text": [
      "0.12\n",
      "0.125\n",
      "0.35\n",
      "0.75\n",
      "1.25\n",
      "2.5\n"
     ]
    }
   ],
   "source": [
    "Var = [0.12,0.125,0.35,0.75,1.25,2.5,5,25,50,100]\n",
    "\n",
    "for i in Var:\n",
    "\n",
    "    if i < 5:\n",
    "\n",
    "        print(i)"
   ]
  },
  {
   "cell_type": "code",
   "execution_count": null,
   "metadata": {},
   "outputs": [],
   "source": []
  }
 ],
 "metadata": {
  "kernelspec": {
   "display_name": "Python 3",
   "language": "python",
   "name": "python3"
  },
  "language_info": {
   "codemirror_mode": {
    "name": "ipython",
    "version": 3
   },
   "file_extension": ".py",
   "mimetype": "text/x-python",
   "name": "python",
   "nbconvert_exporter": "python",
   "pygments_lexer": "ipython3",
   "version": "3.7.4"
  }
 },
 "nbformat": 4,
 "nbformat_minor": 2
}
