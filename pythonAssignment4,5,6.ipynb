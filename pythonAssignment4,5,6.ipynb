{
 "cells": [
  {
   "cell_type": "code",
   "execution_count": 3,
   "metadata": {},
   "outputs": [
    {
     "name": "stdout",
     "output_type": "stream",
     "text": [
      "Friend's First Name: furqan\n",
      "Friend's Last Name: ali\n",
      "Friend's Age: 21\n",
      "Friend's City: HYDERABAD\n",
      "\n",
      " {'First Name': 'furqan', 'Last Name': 'ali', 'Age': 21, 'City': 'HYDERABAD'} \n",
      "\n",
      "{'First Name': 'furqan', 'Last Name': 'ali', 'Age': 21, 'City': 'HYDERABAD', 'Qualification': 'Undergraduate'} \n",
      "\n",
      "{'First Name': 'furqan', 'Last Name': 'ali', 'Age': 21, 'City': 'HYDERABAD', 'Qualification': 'Post-Graduate'} \n",
      "\n",
      "{'First Name': 'furqan', 'Last Name': 'ali', 'Age': 21, 'City': 'HYDERABAD'}\n"
     ]
    }
   ],
   "source": [
    "#QUESTION-01 Assignment 4\n",
    "person = {\n",
    "        \"First Name\" : \"furqan\",\n",
    "        \"Last Name\" : \"ali\",\n",
    "        \"Age\" : 21,\n",
    "        \"City\" : \"HYDERABAD\"\n",
    "}\n",
    "for key, value in person.items():\n",
    "    print(\"Friend's \" + key + \": \" + str(value)) \n",
    "print(\"\\n\",person,\"\\n\")\n",
    "\n",
    "person[\"Qualification\"] = \"Undergraduate\"\n",
    "print(person,\"\\n\")\n",
    "\n",
    "\n",
    "person[\"Qualification\"] = \"Post-Graduate\"\n",
    "print(person,\"\\n\")\n",
    "\n",
    "del person[\"Qualification\"]\n",
    "print(person)"
   ]
  },
  {
   "cell_type": "code",
   "execution_count": 1,
   "metadata": {
    "scrolled": true
   },
   "outputs": [
    {
     "name": "stdout",
     "output_type": "stream",
     "text": [
      "City Name:  Karachi \n",
      "\n",
      "Country of Karachi: Pakistan\n",
      "Population of Karachi: 14.91 million\n",
      "Fact of Karachi: It is one of the most densely populated cities in the world with a diverse and multicultural population drawn to the opportunities for employment and business \n",
      "\n",
      "\n",
      "City Name:  Dhaka \n",
      "\n",
      "Country of Dhaka: Bangladesh\n",
      "Population of Dhaka: 8.906 million\n",
      "Fact of Dhaka: It is worst known for traffic. \n",
      "\n",
      "\n",
      "City Name:  Mumbai \n",
      "\n",
      "Country of Mumbai: India\n",
      "Population of Mumbai: 18.41 million\n",
      "Fact of Mumbai: Mumbai was the first one to start a bus service in India \n",
      "\n",
      "\n"
     ]
    }
   ],
   "source": [
    "#QUESTION-02\n",
    "\n",
    "cities = {\n",
    "    \"Karachi\" : {\n",
    "        \n",
    "        \"Country\" : \"Pakistan\",\n",
    "        \"Population\" : \"14.91 million\",\n",
    "        \"Fact\" : \"It is one of the most densely populated cities in the world with a diverse and multicultural population drawn to the opportunities for employment and business \"\n",
    "        \n",
    "        },\n",
    "    \"Dhaka\" : {\n",
    "            \n",
    "        \"Country\" : \"Bangladesh\",\n",
    "        \"Population\" : \"8.906 million\",\n",
    "        \"Fact\" : \"It is worst known for traffic. \"\n",
    "        \n",
    "        },\n",
    "    \"Mumbai\" : {\n",
    "            \n",
    "        \"Country\" : \"India\",\n",
    "        \"Population\" : \"18.41 million\",\n",
    "        \"Fact\" : \"Mumbai was the first one to start a bus service in India \"\n",
    "        \n",
    "        }\n",
    "}\n",
    "for key in cities.keys():\n",
    "    print(\"City Name: \",key,\"\\n\")\n",
    "    \n",
    "    for ekey,evalue in cities[key].items():\n",
    "        print(ekey+\" of \"+key+\": \"+evalue)\n",
    "    print(\"\\n\")\n",
    "    "
   ]
  },
  {
   "cell_type": "code",
   "execution_count": 3,
   "metadata": {},
   "outputs": [
    {
     "name": "stdout",
     "output_type": "stream",
     "text": [
      "Enter Your Age 21\n",
      "Your ticket charges are $15.\n"
     ]
    }
   ],
   "source": [
    "#QUESTION-03\n",
    "Age = 0,\n",
    "\n",
    "for a in Age:\n",
    "    a = int(input(\"Enter Your Age \"))\n",
    "\n",
    "    if a <= 3 :\n",
    "        print(\"The ticket is free for you.\")\n",
    "\n",
    "    elif a > 3 and a <= 12 :\n",
    "        print(\"Your ticket charges are $10.\")\n",
    "\n",
    "    elif a >12 :\n",
    "        print(\"Your ticket charges are $15.\")\n",
    "        \n",
    "    else:\n",
    "        print (\"Sorry ,you are not allowed\")"
   ]
  },
  {
   "cell_type": "code",
   "execution_count": 4,
   "metadata": {},
   "outputs": [
    {
     "name": "stdout",
     "output_type": "stream",
     "text": [
      "One of my favorite books is: A Smarter Way to Learn Python by Mark Myers.\n"
     ]
    }
   ],
   "source": [
    "#QUESTION-04\n",
    "def favorate_book(title):\n",
    "    title1 = \"One of my favorite books is: \"\n",
    "    total = title1 + title\n",
    "    print(total)\n",
    "\n",
    "favorate_book(\"The kite runners by khaled hussaini\")"
   ]
  },
  {
   "cell_type": "code",
   "execution_count": 5,
   "metadata": {},
   "outputs": [
    {
     "name": "stdout",
     "output_type": "stream",
     "text": [
      "You have three chances to guess the number generated by computer between 1 to 30 \n",
      "\n",
      "Guess the Number 5\n",
      "\n",
      "Given number is less than the hidden number.\n",
      "1st guess  is over\n",
      "\n",
      "Guess the Number 10\n",
      "\n",
      "Given number is less than the hidden number.\n",
      "2nd guess is over\n",
      "\n",
      "Guess the Number 12\n",
      "\n",
      "Given number is less than the hidden number.\n",
      "3rd guess is over\n",
      "\n",
      "\n",
      "You Lost, no more chances left\n",
      "Hidden number is  27\n"
     ]
    }
   ],
   "source": [
    "#QUESTION-05\n",
    "\n",
    "import random\n",
    "num = random.randrange(1,30)\n",
    "chances = [\"1st guess \",\"2nd guess\",\"3rd guess\"]\n",
    "\n",
    "print(\"You have three chances to guess the number generated by computer between 1 to 30 \\n\")\n",
    "\n",
    "for a in chances:\n",
    "   \n",
    "    gnum = int(input(\"Guess the Number \"))\n",
    "    \n",
    "    if num != gnum:\n",
    "        if num > gnum:\n",
    "            print(\"\\nGiven number is less than the hidden number.\")\n",
    "            print(a, \"is over\\n\")\n",
    "        if num < gnum:\n",
    "            print(\"\\nGiven number is greater than the hidden number.\")\n",
    "            print(a, \"is over\\n\")\n",
    "if num == gnum:\n",
    "        print(\"\\nYou have done this it\",a)\n",
    "        print(\"Congratulations, Your guess is correct.\")\n",
    "        print(\"Yeah You Won \\n\")\n",
    "if num != gnum:      \n",
    "    print(\"\\nYou Lost, no more chances left\\nHidden number is \",num)"
   ]
  },
  {
   "cell_type": "code",
   "execution_count": 4,
   "metadata": {},
   "outputs": [
    {
     "name": "stdout",
     "output_type": "stream",
     "text": [
      "Factorial of given number is:  6\n"
     ]
    }
   ],
   "source": [
    "#Q1 Assignment5 Started\n",
    "def factorial(a):\n",
    "    if a == 0:\n",
    "        return 1\n",
    "    else:\n",
    "        return a * factorial(a - 1)\n",
    "\n",
    "fact = factorial(3) \n",
    "print(\"Factorial of given number is: \", fact\n",
    "     )\n"
   ]
  },
  {
   "cell_type": "code",
   "execution_count": 5,
   "metadata": {},
   "outputs": [
    {
     "name": "stdout",
     "output_type": "stream",
     "text": [
      "Enter String to Check the  No. of upper and lower case letters: furqan\n",
      "Original String :  furqan\n",
      "No Up Case :  0\n",
      "No low Case :  6\n"
     ]
    }
   ],
   "source": [
    "#Q2\n",
    "def str_test(s):\n",
    "    d = {\"UP\" : 0, \"LOW\" : 0}\n",
    "    for b in s:\n",
    "        if b.isupper():\n",
    "            d[\"UP\"]+=1\n",
    "        elif b.islower():\n",
    "            d[\"LOW\"]+=1\n",
    "        else:\n",
    "            pass\n",
    "    print(\"Original String : \", s)\n",
    "    print(\"No Up Case : \", d[\"UP\"])\n",
    "    print(\"No low Case : \", d[\"LOW\"])\n",
    "Ostr = str(input(\"Enter String to Check the  No. of upper and lower case letters: \")) \n",
    "str_test(Ostr)"
   ]
  },
  {
   "cell_type": "code",
   "execution_count": 6,
   "metadata": {},
   "outputs": [
    {
     "name": "stdout",
     "output_type": "stream",
     "text": [
      "2\n",
      "4\n",
      "6\n",
      "8\n",
      "10\n",
      "12\n",
      "14\n"
     ]
    }
   ],
   "source": [
    "#Q3\n",
    "nolist = [1,2,3,4,5,6,7,8,9,10,11,12,13,14,15]\n",
    "\n",
    "\n",
    "def enum(num):\n",
    "    for lst in num:\n",
    "        if lst%2 == 0:\n",
    "            print(lst)\n",
    "        else:\n",
    "            pass\n",
    "\n",
    "enum(nolist)"
   ]
  },
  {
   "cell_type": "code",
   "execution_count": 7,
   "metadata": {},
   "outputs": [
    {
     "name": "stdout",
     "output_type": "stream",
     "text": [
      "Write a word to Check whether the word is Palindrome or not: furqan\n",
      "The word is not a Palindrome.\n"
     ]
    }
   ],
   "source": [
    "#Q4\n",
    "def check_pal(word):\n",
    "    word = word.casefold()\n",
    "    rev_word = reversed(word)\n",
    "    \n",
    "    if list(word) == list(rev_word):\n",
    "        print(\"The word is a Palindrome.\")\n",
    "    else:\n",
    "        print(\"The word is not a Palindrome.\")\n",
    "\n",
    "gword = str(input(\"Write a word to Check whether the word is Palindrome or not: \"))\n",
    "check_pal(gword)"
   ]
  },
  {
   "cell_type": "code",
   "execution_count": 8,
   "metadata": {},
   "outputs": [
    {
     "name": "stdout",
     "output_type": "stream",
     "text": [
      "Enter a number to Check whether the number is prime or not: 4\n",
      "4  is not a Prime Number\n",
      "2 x 2  =  4\n"
     ]
    }
   ],
   "source": [
    "#Q5\n",
    "def check_prime(pnum):\n",
    "    if pnum > 1:\n",
    "        for p in range(2, pnum): \n",
    "            if pnum % p == 0:\n",
    "                print(pnum, \" is not a Prime Number\")\n",
    "                print(p,\"x\",pnum//p, \" = \",pnum)\n",
    "                break\n",
    "            else:\n",
    "                print(pnum, \" is a Prime Number\")\n",
    "                break\n",
    "                \n",
    "    else:\n",
    "        print(pnum, \" is not a Prime Number\")\n",
    "        \n",
    "chnum = int(input(\"Enter a number to Check whether the number is prime or not: \"))\n",
    "check_prime(chnum)"
   ]
  },
  {
   "cell_type": "code",
   "execution_count": 9,
   "metadata": {},
   "outputs": [
    {
     "name": "stdout",
     "output_type": "stream",
     "text": [
      "My Shopping Items are:\n",
      "Wallet\n",
      "Jacket\n",
      "Watch\n",
      "Shoes\n",
      "Perfume\n"
     ]
    }
   ],
   "source": [
    "#Q6\n",
    "def shopmall(*shopitems):\n",
    "    print(\"My Shopping Items are:\")\n",
    "    \n",
    "    for shoping in shopitems:\n",
    "        print(shoping)\n",
    "        \n",
    "shopmall(\"Wallet\", \"Jacket\", \"Watch\", \"Shoes\", \"Perfume\")"
   ]
  },
  {
   "cell_type": "code",
   "execution_count": 14,
   "metadata": {},
   "outputs": [
    {
     "ename": "SyntaxError",
     "evalue": "invalid syntax (<ipython-input-14-36e586bea735>, line 24)",
     "output_type": "error",
     "traceback": [
      "\u001b[1;36m  File \u001b[1;32m\"<ipython-input-14-36e586bea735>\"\u001b[1;36m, line \u001b[1;32m24\u001b[0m\n\u001b[1;33m    Vitz Honda 2019 Gray 4\u001b[0m\n\u001b[1;37m             ^\u001b[0m\n\u001b[1;31mSyntaxError\u001b[0m\u001b[1;31m:\u001b[0m invalid syntax\n"
     ]
    }
   ],
   "source": [
    "#Question 5\n",
    "class Car:\n",
    "    def __init__(self, name, brand, model, color, doors):\n",
    "        self.name = name\n",
    "        self.brand = brand\n",
    "        self.model = model\n",
    "        self.color =  color\n",
    "        self.doors = doors\n",
    "    def printCar(self):\n",
    "        print(self.name,self.brand, self.model, self.color, self.doors)\n",
    "    def drive(self):\n",
    "        print(self.name, \"is now being driven.\")\n",
    "    def stop(self):\n",
    "        print(self.name, \"is stopped.\")\n",
    "car1 = Car(\"Mehran\", \"Suzuki\", \"2009\", \"White\", 4)\n",
    "car2 = Car(\"Lamborghini\", \"Lambo\", \"2010\", \"Blue\", 2)\n",
    "car3 = Car(\"Fe22\", \"Ferrari\", \"2011\", \"Green\", 4)\n",
    "car4 = Car(\"Corolla\", \"Toyota\", \"2012\", \"Red\", 2)\n",
    "car5 = Car(\"Vitz\", \"Honda\", \"2019\", \"Gray\", 4)\n",
    "car5.printCar()\n",
    "car1.stop()\n",
    "car4.drive()\n",
    "\n",
    "Vitz Honda 2019 Gray 4\n",
    "Mehran is stopped.\n",
    "Corolla is now being driven."
   ]
  },
  {
   "cell_type": "code",
   "execution_count": null,
   "metadata": {},
   "outputs": [],
   "source": []
  }
 ],
 "metadata": {
  "kernelspec": {
   "display_name": "Python 3",
   "language": "python",
   "name": "python3"
  },
  "language_info": {
   "codemirror_mode": {
    "name": "ipython",
    "version": 3
   },
   "file_extension": ".py",
   "mimetype": "text/x-python",
   "name": "python",
   "nbconvert_exporter": "python",
   "pygments_lexer": "ipython3",
   "version": "3.7.4"
  }
 },
 "nbformat": 4,
 "nbformat_minor": 2
}
