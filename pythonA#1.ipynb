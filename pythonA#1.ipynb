{
 "cells": [
  {
   "cell_type": "code",
   "execution_count": 3,
   "metadata": {},
   "outputs": [
    {
     "name": "stdout",
     "output_type": "stream",
     "text": [
      "Twinkle,Twinkle,Little star,\n",
      "       how i wonder what you are!\n",
      "             up above the world so high\n",
      "             like a diamond in the sky\n",
      "Twinkle,Twinkle,Little star,\n",
      "       how i wonder what you are!\n",
      "             up above the world so high\n",
      "             like a diamond in the sky\n"
     ]
    }
   ],
   "source": [
    "print('Twinkle,Twinkle,Little star,')\n",
    "print('       how i wonder what you are!')\n",
    "print('             up above the world so high')\n",
    "print('             like a diamond in the sky')\n",
    "print('Twinkle,Twinkle,Little star,')\n",
    "print('       how i wonder what you are!')\n",
    "print('             up above the world so high')\n",
    "print('             like a diamond in the sky')"
   ]
  },
  {
   "cell_type": "code",
   "execution_count": 4,
   "metadata": {},
   "outputs": [
    {
     "name": "stdout",
     "output_type": "stream",
     "text": [
      "3.7.4\n"
     ]
    }
   ],
   "source": [
    "import platform\n",
    "print(platform.python_version())\n"
   ]
  },
  {
   "cell_type": "code",
   "execution_count": 5,
   "metadata": {},
   "outputs": [
    {
     "name": "stdout",
     "output_type": "stream",
     "text": [
      "Current date and time : \n",
      "2019-11-05 16:44:17\n"
     ]
    }
   ],
   "source": [
    "import datetime\n",
    "now = datetime.datetime.now()\n",
    "print (\"Current date and time : \")\n",
    "print (now.strftime(\"%Y-%m-%d %H:%M:%S\"))"
   ]
  },
  {
   "cell_type": "code",
   "execution_count": 6,
   "metadata": {},
   "outputs": [
    {
     "name": "stdout",
     "output_type": "stream",
     "text": [
      "Enter the radius2\n",
      "12.566370614359172\n"
     ]
    }
   ],
   "source": [
    "import math\n",
    "radius=int(input('Enter the radius'))\n",
    "area=math.pi*radius**2\n",
    "print(area)\n"
   ]
  },
  {
   "cell_type": "code",
   "execution_count": 8,
   "metadata": {},
   "outputs": [
    {
     "name": "stdout",
     "output_type": "stream",
     "text": [
      "Enter your first name furqan \n",
      "Enter your last name ali\n",
      "ali furqan \n"
     ]
    }
   ],
   "source": [
    "first_name=input('Enter your first name ')\n",
    "last_name=input('Enter your last name ')\n",
    "print(last_name+' '+first_name)"
   ]
  },
  {
   "cell_type": "code",
   "execution_count": 9,
   "metadata": {},
   "outputs": [
    {
     "name": "stdout",
     "output_type": "stream",
     "text": [
      "Enter the first number3\n",
      "Enter the second number4\n",
      "The sum will be \n",
      "7\n"
     ]
    }
   ],
   "source": [
    "Input_1=int(input('Enter the first number'))\n",
    "Input_2=int(input('Enter the second number'))\n",
    "add=Input_1+Input_2\n",
    "print('The sum will be ')\n",
    "print(add)"
   ]
  },
  {
   "cell_type": "code",
   "execution_count": null,
   "metadata": {},
   "outputs": [],
   "source": []
  }
 ],
 "metadata": {
  "kernelspec": {
   "display_name": "Python 3",
   "language": "python",
   "name": "python3"
  },
  "language_info": {
   "codemirror_mode": {
    "name": "ipython",
    "version": 3
   },
   "file_extension": ".py",
   "mimetype": "text/x-python",
   "name": "python",
   "nbconvert_exporter": "python",
   "pygments_lexer": "ipython3",
   "version": "3.7.4"
  }
 },
 "nbformat": 4,
 "nbformat_minor": 2
}
